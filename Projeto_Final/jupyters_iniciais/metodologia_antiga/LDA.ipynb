{
 "cells": [
  {
   "cell_type": "markdown",
   "metadata": {},
   "source": [
    "# LINEAR DISCRIMINANT ANALYSIS"
   ]
  },
  {
   "cell_type": "code",
   "execution_count": null,
   "metadata": {},
   "outputs": [],
   "source": [
    "import pandas as pd\n",
    "import numpy as np\n",
    "import os\n",
    "import matplotlib.pyplot as plt\n",
    "from sklearn.utils import shuffle\n",
    "from sklearn.discriminant_analysis import LinearDiscriminantAnalysis\n",
    "from sklearn.model_selection import GridSearchCV, GroupKFold\n",
    "from sklearn.metrics import accuracy_score"
   ]
  },
  {
   "cell_type": "code",
   "execution_count": null,
   "metadata": {},
   "outputs": [],
   "source": [
    "#DEFININDO ALGUNS PARÂMETROS DO GRÁFICO\n",
    "%matplotlib inline\n",
    "%config InlineBackend.figure_format = 'svg'\n",
    "params = {'figure.figsize': [11, 5.5], \n",
    "          'axes.labelsize': 18,\n",
    "          'axes.titlesize': 20, \n",
    "          'font.size': 18,\n",
    "          'legend.fontsize': 14, \n",
    "          'xtick.labelsize': 12, \n",
    "          'ytick.labelsize': 12,\n",
    "          'axes.axisbelow': True\n",
    "         }\n",
    "\n",
    "plt.rcParams.update(params)"
   ]
  },
  {
   "cell_type": "markdown",
   "metadata": {},
   "source": [
    "### Abrindo o dataset de teste"
   ]
  },
  {
   "cell_type": "code",
   "execution_count": null,
   "metadata": {},
   "outputs": [],
   "source": [
    "dfTeste = pd.read_csv(\"datasets/dataset_teste.csv\")\n",
    "\n",
    "# SEPARANDO O DATASET QUE CONTEM APENAS OS AUDIOS ORIGINAIS\n",
    "dfTeste   = dfTeste.loc[(dfTeste['ruido'] == 0) & (dfTeste['pitch'] == 0) & (dfTeste['tempo'] == 0) & (dfTeste['velocidade'] == 0)]\n",
    "\n",
    "xTest = dfTeste.iloc[:, 5:-1].to_numpy()\n",
    "yTest = dfTeste.iloc[:, -1].to_numpy()"
   ]
  },
  {
   "cell_type": "markdown",
   "metadata": {},
   "source": [
    "### Setando os parâmetros iniciais"
   ]
  },
  {
   "cell_type": "code",
   "execution_count": null,
   "metadata": {},
   "outputs": [],
   "source": [
    "# NOME DO CLASSIFICADOR (APENAS PARA FINS DE NOMEACAO DE ARQUIVOS)\n",
    "nomeClassificador = \"LDA\"\n",
    "\n",
    "# CAMINHO PROS DATASETS DE TREINAMENTO\n",
    "diretorioDatasets = \"datasets/\"\n",
    "datasets          = [\"dataset_treinamento_original.csv\", \"dataset_treinamento_original_ruido.csv\", \"dataset_treinamento_original_pitch.csv\", \"dataset_treinamento_original_velocidade.csv\", \"dataset_treinamento_original_tempo.csv\", \"dataset_treinamento_completo.csv\"]\n",
    "\n",
    "# VAMOS FAZER UM BOOTSTRAP COM qtdIteracoesCV HOLDOUTS NO TESTE E UM KFOLD NO TREINAMENTO COM qtdIteracoesCV PASTAS\n",
    "qtdIteracoesCV = 5\n",
    "\n",
    "# PERCENTUAL DE DADOS DO DATASET DE TESTE PRA USAR EM CADA ITERACAO NA ETAPA DE TESTEEEE\n",
    "percentualTeste = 2/3\n",
    "\n",
    "# PARAMETROS PRA TESTAR NO GRIDSEARCH\n",
    "parametrosGrid = [{\n",
    "    'solver': ['svd', 'lsqr', 'eigen'],\n",
    "    'tol': [1e-5, 1e-4, 1e-3]\n",
    "}]\n",
    "\n",
    "# # RODAR AS LINHAS ABAIXO APENAS PARA TESTES RAPIDOS\n",
    "# parametrosGrid = [{ # apenas testes rapidos\n",
    "#     'solver': ['svd'], # apenas testes rapidos\n",
    "#     'tol': [1e-4] # apenas testes rapidos\n",
    "# }] # apenas testes rapidos"
   ]
  },
  {
   "cell_type": "markdown",
   "metadata": {},
   "source": [
    "### Fazendo o gridsearch pra cada dataset de treinamento"
   ]
  },
  {
   "cell_type": "code",
   "execution_count": null,
   "metadata": {},
   "outputs": [],
   "source": [
    "# ARRAYS DE RESULTADOS PARA CADA DATASET\n",
    "arrayAcuraciaMediaTreinamentoCadaDataset = []\n",
    "arrayDesvioPadraoTreinamentoCadaDataset  = [] \n",
    "arrayMelhorModeloTreinamentoCadaDataset  = []\n",
    "\n",
    "# PRA CADA DATASET\n",
    "for datasetAtual in datasets:\n",
    "    \n",
    "    # SEPARANDO DATA, TARGET E GRUPOS (grupos eh pras janelas de um mesmo audio sempre cairem na mesma pasta do kfold)\n",
    "    dfTreinamento = pd.read_csv(diretorioDatasets+datasetAtual)\n",
    "    data   = dfTreinamento.iloc[:, 5:-1].to_numpy()\n",
    "    target = dfTreinamento.iloc[:, -1].to_numpy()\n",
    "    groups = dfTreinamento.iloc[:, 0].to_numpy()\n",
    "    \n",
    "    # AJUSTANDO O GRIDSEARCH\n",
    "    objGS = GridSearchCV(\n",
    "        LinearDiscriminantAnalysis(),\n",
    "        parametrosGrid,\n",
    "        verbose=10,\n",
    "        cv=GroupKFold(n_splits=qtdIteracoesCV).split(data, target, groups),\n",
    "        n_jobs=-1,\n",
    "        scoring='accuracy'\n",
    "    )\n",
    "    \n",
    "    # RODANDO O GRIDSEARCH\n",
    "    objGS.fit(data, target)\n",
    "    \n",
    "    # OBTENDO OS RESULTADOS\n",
    "    arrayAcuraciaMediaTreinamentoCadaDataset.append(objGS.cv_results_[\"mean_test_score\"][objGS.best_index_])\n",
    "    arrayDesvioPadraoTreinamentoCadaDataset.append(objGS.cv_results_[\"std_test_score\"][objGS.best_index_])\n",
    "    arrayMelhorModeloTreinamentoCadaDataset.append(objGS.best_estimator_)"
   ]
  },
  {
   "cell_type": "code",
   "execution_count": null,
   "metadata": {},
   "outputs": [],
   "source": [
    "print(\"RESULTADOS DO GRIDSEARCH:\\n\\n\\n\")\n",
    "for datasetAtual, melhorModelo, acuraciaMedia, desvPad in zip (datasets, arrayMelhorModeloTreinamentoCadaDataset, arrayAcuraciaMediaTreinamentoCadaDataset, arrayDesvioPadraoTreinamentoCadaDataset):\n",
    "    print(datasetAtual)\n",
    "    print(melhorModelo)\n",
    "    print(acuraciaMedia, \"+-\", desvPad, \"\\n\\n\\n\")"
   ]
  },
  {
   "cell_type": "markdown",
   "metadata": {},
   "source": [
    "### Testando o melhor modelo para cada dataset"
   ]
  },
  {
   "cell_type": "code",
   "execution_count": null,
   "metadata": {
    "scrolled": true
   },
   "outputs": [],
   "source": [
    "arrayAcuraciaMediaTesteCadaDataset = []\n",
    "arrayDesvioPadraoTesteCadaDataset   = []\n",
    "\n",
    "for datasetAtual, melhorModelo in zip (datasets, arrayMelhorModeloTreinamentoCadaDataset):\n",
    "    \n",
    "    print(\"\\nIniciando os testes com o\", datasetAtual)\n",
    "    \n",
    "    # ABRINDO O DATASET DE TREINAMENTO E SEPARANDO X E Y\n",
    "    dfTreinamento = pd.read_csv(diretorioDatasets+datasetAtual)\n",
    "    xTrain = dfTreinamento.iloc[:, 5:-1].to_numpy()\n",
    "    yTrain = dfTreinamento.iloc[:, -1].to_numpy()\n",
    "\n",
    "    # CRIANDO OS ARRAY DE ACURACIAS QUE VAI GUARDAR CADA ACURACIA DO CROSS VALIDATION\n",
    "    arrayAcuraciasDatasetAtual = []\n",
    "\n",
    "    # ITERANDO O CROSS VALIDATION\n",
    "    for i in range(1, qtdIteracoesCV + 1):\n",
    "\n",
    "        # NOS JA TEMOS XTRAIN E YTRAIN, PRECISO DAR UM SHUFFLE NOS DADOS DE TESTE\n",
    "        xTest, yTest = shuffle(xTest, yTest)\n",
    "        xTestAtual = xTest[:int(percentualTeste*len(xTest))]\n",
    "        yTestAtual = yTest[:int(percentualTeste*len(yTest))]\n",
    "\n",
    "        # AJUSTANDO AS PARADAS DO MODELO ATUAL (SE DER PRA POR N_JOBS=-1 A GNT BOTA)\n",
    "        modelozao = str(melhorModelo).replace(\"\\n\", \"\").replace(\" \", \"\")\n",
    "        parametrosModelo = modelozao.split(\",\")\n",
    "        for j, parametroAtual in enumerate(parametrosModelo):\n",
    "            if \"n_jobs\" in parametroAtual:\n",
    "                parametrosModelo[j] = \"n_jobs=-1\"\n",
    "        modelozao = ','.join(parametrosModelo)\n",
    "        \n",
    "        # CRIANDO, TREINANDO E PREDIZENDO O MODELO       \n",
    "        objClassificador = eval(modelozao)\n",
    "        objClassificador.fit(xTrain, yTrain)\n",
    "        yPred  = objClassificador.predict(xTestAtual)\n",
    "        arrayAcuraciasDatasetAtual.append(accuracy_score(yTestAtual, yPred))\n",
    "\n",
    "        # PRINTANDO O PROGRESSO\n",
    "        print(str(100*(i/qtdIteracoesCV))+\"%\", end=\" \")\n",
    "        \n",
    "    # COLOCANDO OS RESULTADOS DESSE DATASET NOS ARRAYS CERTOS\n",
    "    arrayAcuraciaMediaTesteCadaDataset.append(np.mean(arrayAcuraciasDatasetAtual))\n",
    "    arrayDesvioPadraoTesteCadaDataset.append(np.std(arrayAcuraciasDatasetAtual))"
   ]
  },
  {
   "cell_type": "code",
   "execution_count": null,
   "metadata": {},
   "outputs": [],
   "source": [
    "print(\"RESULTADOS DO TESTE COM O MELHOR MODELO PARA CADA DATASET:\\n\\n\\n\")\n",
    "for datasetAtual, melhorModelo, acuraciaMedia, desvPad in zip (datasets, arrayMelhorModeloTreinamentoCadaDataset, arrayAcuraciaMediaTesteCadaDataset, arrayDesvioPadraoTesteCadaDataset):\n",
    "    print(datasetAtual)\n",
    "    print(melhorModelo)\n",
    "    print(acuraciaMedia, \"+-\", desvPad, \"\\n\\n\\n\")"
   ]
  },
  {
   "cell_type": "markdown",
   "metadata": {},
   "source": [
    "# Exibindo os resultados"
   ]
  },
  {
   "cell_type": "markdown",
   "metadata": {},
   "source": [
    "### Resultado do treinamento (gridsearch)"
   ]
  },
  {
   "cell_type": "code",
   "execution_count": null,
   "metadata": {},
   "outputs": [],
   "source": [
    "paleta = [\"#99ddff\", \"#80d4ff\", \"#66ccff\", \"#4dc3ff\", \"#33bbff\", \"#1ab2ff\"]\n",
    "ticksDatasets = []\n",
    "\n",
    "for i, (datasetAtual, acuraciaAtual, desvioAtual, corAtual) in enumerate(zip(datasets, arrayAcuraciaMediaTreinamentoCadaDataset, arrayDesvioPadraoTreinamentoCadaDataset, paleta)):\n",
    "    \n",
    "    plt.bar(i+1, acuraciaAtual, color=corAtual)\n",
    "    plt.errorbar(i+1, acuraciaAtual, yerr=desvioAtual, capsize=2, color=\"#ff0066\")\n",
    "    \n",
    "    if datasetAtual[:-4].split(\"_\")[-1] == \"ruido\":\n",
    "        ticksDatasets.append(\"Original +\\nRuído Branco\")\n",
    "    elif datasetAtual[:-4].split(\"_\")[-1] == \"pitch\":\n",
    "        ticksDatasets.append(\"Original +\\nPitch Shift\")\n",
    "    elif datasetAtual[:-4].split(\"_\")[-1] == \"velocidade\":\n",
    "        ticksDatasets.append(\"Original +\\nVelocidade\\nReprodução\")\n",
    "    elif datasetAtual[:-4].split(\"_\")[-1] == \"tempo\":\n",
    "        ticksDatasets.append(\"Original +\\nDeslocamento\\nTemporal\")\n",
    "    else:\n",
    "        ticksDatasets.append(datasetAtual[:-4].split(\"_\")[-1].capitalize())\n",
    "\n",
    "plt.title(nomeClassificador)\n",
    "plt.ylabel(\"Acurácia de Treinamento\")\n",
    "plt.xlabel(\"Dataset de Treinamento\")\n",
    "plt.ylim(min(arrayAcuraciaMediaTreinamentoCadaDataset)-max(arrayDesvioPadraoTreinamentoCadaDataset)-0.02, max(arrayAcuraciaMediaTreinamentoCadaDataset)+max(arrayDesvioPadraoTreinamentoCadaDataset)+0.02)\n",
    "plt.xticks(range(1, len(ticksDatasets)+1), ticksDatasets)\n",
    "plt.grid(alpha=0.5)\n",
    "\n",
    "plt.savefig(\"resultados/\"+nomeClassificador+\"_Treinamento.pdf\", format='pdf', bbox_inches = 'tight')\n",
    "plt.show()"
   ]
  },
  {
   "cell_type": "markdown",
   "metadata": {},
   "source": [
    "### Resultado do teste"
   ]
  },
  {
   "cell_type": "code",
   "execution_count": null,
   "metadata": {},
   "outputs": [],
   "source": [
    "paleta = [\"#99ddff\", \"#80d4ff\", \"#66ccff\", \"#4dc3ff\", \"#33bbff\", \"#1ab2ff\"]\n",
    "ticksDatasets = []\n",
    "\n",
    "for i, (datasetAtual, acuraciaAtual, desvioAtual, corAtual) in enumerate(zip(datasets, arrayAcuraciaMediaTesteCadaDataset, arrayDesvioPadraoTesteCadaDataset, paleta)):\n",
    "    \n",
    "    plt.bar(i+1, acuraciaAtual, color=corAtual)\n",
    "    plt.errorbar(i+1, acuraciaAtual, yerr=desvioAtual, capsize=2, color=\"#ff0066\")\n",
    "    \n",
    "    if datasetAtual[:-4].split(\"_\")[-1] == \"ruido\":\n",
    "        ticksDatasets.append(\"Original +\\nRuído Branco\")\n",
    "    elif datasetAtual[:-4].split(\"_\")[-1] == \"pitch\":\n",
    "        ticksDatasets.append(\"Original +\\nPitch Shift\")\n",
    "    elif datasetAtual[:-4].split(\"_\")[-1] == \"velocidade\":\n",
    "        ticksDatasets.append(\"Original +\\nVelocidade\\nReprodução\")\n",
    "    elif datasetAtual[:-4].split(\"_\")[-1] == \"tempo\":\n",
    "        ticksDatasets.append(\"Original +\\nDeslocamento\\nTemporal\")\n",
    "    else:\n",
    "        ticksDatasets.append(datasetAtual[:-4].split(\"_\")[-1].capitalize())\n",
    "\n",
    "plt.title(nomeClassificador)\n",
    "plt.ylabel(\"Acurácia de Teste\")\n",
    "plt.xlabel(\"Dataset de Treinamento\")\n",
    "plt.ylim(min(arrayAcuraciaMediaTesteCadaDataset)-max(arrayDesvioPadraoTesteCadaDataset)-0.02, max(arrayAcuraciaMediaTesteCadaDataset)+max(arrayDesvioPadraoTesteCadaDataset)+0.02)\n",
    "plt.xticks(range(1, len(ticksDatasets)+1), ticksDatasets)\n",
    "plt.grid(alpha=0.5)\n",
    "\n",
    "plt.savefig(\"resultados/\"+nomeClassificador+\"_Teste.pdf\", format='pdf', bbox_inches = 'tight')\n",
    "plt.show()"
   ]
  },
  {
   "cell_type": "markdown",
   "metadata": {},
   "source": [
    "### Juntando os dois gráficos"
   ]
  },
  {
   "cell_type": "code",
   "execution_count": null,
   "metadata": {},
   "outputs": [],
   "source": [
    "ticksDatasets = []\n",
    "\n",
    "fatorMult = 2\n",
    "fatorSoma = 0.4\n",
    "\n",
    "for i, (datasetAtual, acuraciaTreinamento, desvioTreinamento, acuraciaTeste, desvioTeste) in enumerate(zip(datasets, arrayAcuraciaMediaTreinamentoCadaDataset, arrayDesvioPadraoTreinamentoCadaDataset, arrayAcuraciaMediaTesteCadaDataset, arrayDesvioPadraoTesteCadaDataset)):\n",
    "    \n",
    "    if i == 0: # COLOCAR A LEGENDA SO NO PRIMEIRO\n",
    "        plt.bar(i*fatorMult-fatorSoma, acuraciaTreinamento, color=\"tab:blue\", label=\"Treinamento\")\n",
    "        plt.bar(i*fatorMult+fatorSoma, acuraciaTeste, color=\"tab:brown\", label=\"Teste\")\n",
    "    \n",
    "    # TREINAMENTO\n",
    "    plt.bar(i*fatorMult-fatorSoma, acuraciaTreinamento, color=\"tab:blue\")\n",
    "    plt.errorbar(i*fatorMult-fatorSoma, acuraciaTreinamento, yerr=desvioTreinamento, capsize=2, color=\"#ff0066\")\n",
    "    \n",
    "    # TESTE\n",
    "    plt.bar(i*fatorMult+fatorSoma, acuraciaTeste, color=\"tab:brown\")\n",
    "    plt.errorbar(i*fatorMult+fatorSoma, acuraciaTeste, yerr=desvioTeste, capsize=2, color=\"#ff0066\")\n",
    "    \n",
    "    if datasetAtual[:-4].split(\"_\")[-1] == \"ruido\":\n",
    "        ticksDatasets.append(\"Original +\\nRuído Branco\")\n",
    "    elif datasetAtual[:-4].split(\"_\")[-1] == \"pitch\":\n",
    "        ticksDatasets.append(\"Original +\\nPitch Shift\")\n",
    "    elif datasetAtual[:-4].split(\"_\")[-1] == \"velocidade\":\n",
    "        ticksDatasets.append(\"Original +\\nVelocidade\\nReprodução\")\n",
    "    elif datasetAtual[:-4].split(\"_\")[-1] == \"tempo\":\n",
    "        ticksDatasets.append(\"Original +\\nDeslocamento\\nTemporal\")\n",
    "    else:\n",
    "        ticksDatasets.append(datasetAtual[:-4].split(\"_\")[-1].capitalize())\n",
    "\n",
    "plt.title(nomeClassificador)\n",
    "plt.legend()\n",
    "plt.ylabel(\"Acurácia\")\n",
    "plt.xlabel(\"Dataset de Treinamento\")\n",
    "plt.ylim(min(arrayAcuraciaMediaTesteCadaDataset)-max(arrayDesvioPadraoTreinamentoCadaDataset)-0.02, max(arrayAcuraciaMediaTreinamentoCadaDataset)+max(arrayDesvioPadraoTreinamentoCadaDataset)+0.02)\n",
    "plt.xticks(range(0, fatorMult*len(ticksDatasets), fatorMult), ticksDatasets)\n",
    "plt.grid(alpha=0.5)\n",
    "\n",
    "plt.savefig(\"resultados/\"+nomeClassificador+\"_Treinamento_Teste.pdf\", format='pdf', bbox_inches = 'tight')\n",
    "plt.show()"
   ]
  },
  {
   "cell_type": "markdown",
   "metadata": {},
   "source": [
    "### Salvando os resultados num txt"
   ]
  },
  {
   "cell_type": "code",
   "execution_count": null,
   "metadata": {},
   "outputs": [],
   "source": [
    "arquivoResultados = \"resultados/\" + nomeClassificador + \"_Resultados.txt\"\n",
    "\n",
    "if os.path.exists(arquivoResultados):\n",
    "    os.remove(arquivoResultados)\n",
    "\n",
    "objFile = open(arquivoResultados, \"a\")\n",
    "\n",
    "for nomeDataset, melhorModelo, acuraciaTreinamento, desvioTreinamento, acuraciaTeste, desvioTeste in zip(datasets, arrayMelhorModeloTreinamentoCadaDataset, arrayAcuraciaMediaTreinamentoCadaDataset, arrayDesvioPadraoTreinamentoCadaDataset, arrayAcuraciaMediaTesteCadaDataset, arrayDesvioPadraoTesteCadaDataset):\n",
    "    string  = \"DATASET: \" + str(nomeDataset) + \"\\n\"    \n",
    "    string += \"MELHOR MODELO (GRIDSEARCH): \" + str(melhorModelo).replace(\"\\n\", \"\").replace(\" \", \"\") + \"\\n\"\n",
    "    string += \"ACURÁCIA DE TREINAMENTO: \" + str(acuraciaTreinamento) + \" +- \" + str(desvioTreinamento) + \"\\n\"\n",
    "    string += \"ACURÁCIA DE TESTE: \" + str(acuraciaTeste) + \" +- \" + str(desvioTeste) + \"\\n\\n\\n\\n\"\n",
    "    objFile.write(string)\n",
    "    \n",
    "objFile.close()    "
   ]
  },
  {
   "cell_type": "code",
   "execution_count": null,
   "metadata": {},
   "outputs": [],
   "source": []
  },
  {
   "cell_type": "code",
   "execution_count": null,
   "metadata": {},
   "outputs": [],
   "source": []
  },
  {
   "cell_type": "code",
   "execution_count": null,
   "metadata": {},
   "outputs": [],
   "source": []
  }
 ],
 "metadata": {
  "kernelspec": {
   "display_name": "Python 3",
   "language": "python",
   "name": "python3"
  },
  "language_info": {
   "codemirror_mode": {
    "name": "ipython",
    "version": 3
   },
   "file_extension": ".py",
   "mimetype": "text/x-python",
   "name": "python",
   "nbconvert_exporter": "python",
   "pygments_lexer": "ipython3",
   "version": "3.7.3"
  }
 },
 "nbformat": 4,
 "nbformat_minor": 2
}

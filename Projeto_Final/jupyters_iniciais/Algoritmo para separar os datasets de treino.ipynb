{
 "cells": [
  {
   "cell_type": "code",
   "execution_count": 1,
   "metadata": {},
   "outputs": [],
   "source": [
    "import pandas as pd"
   ]
  },
  {
   "cell_type": "markdown",
   "metadata": {},
   "source": [
    "# SEPARANDO OS DATASETS DE TREINAMENTO"
   ]
  },
  {
   "cell_type": "markdown",
   "metadata": {},
   "source": [
    "O objetivo é separá-los e salvá-los em CSVs separados pra facilitar depois. Serão construídos 6 arquivos:\n",
    "\n",
    "1) dataset_treinamento_completo.csv -> É o que já existe. Composto pelos áudios originais do dataset e todos os outros aumentados;\n",
    "\n",
    "2) dataset_treinamento_original.csv -> Composto apenas pelos áudios de treino originais do dataset. Nada aqui foi aumentado;\n",
    "\n",
    "3) dataset_treinamento_original_ruido.csv -> Composto pelos áudios originais e pelos com adição de ruído branco;\n",
    "\n",
    "4) dataset_treinamento_original_pitch.csv -> Composto pelos áudios originais e pelos com alteração de pitch;\n",
    "\n",
    "5) dataset_treinamento_original_velocidade.csv -> Composto pelos áudios originais e pelos com alteração de valocidade de reprodução;\n",
    "\n",
    "6) dataset_treinamento_original_tempo.csv -> Composto pelos áudios originais e pelos com deslocamentos temporais;"
   ]
  },
  {
   "cell_type": "code",
   "execution_count": 2,
   "metadata": {},
   "outputs": [],
   "source": [
    "# ABRINDO O DATASET COMPLETO\n",
    "dfTreinoCompleto   = pd.read_csv(\"../datasets/dataset_treinamento_completo.csv\")\n",
    "\n",
    "# SEPARANDO O DATASET QUE CONTEM APENAS OS AUDIOS ORIGINAIS\n",
    "dfTreinoOriginal   = dfTreinoCompleto.loc[(dfTreinoCompleto['ruido'] == 0) & (dfTreinoCompleto['pitch'] == 0) & (dfTreinoCompleto['tempo'] == 0) & (dfTreinoCompleto['velocidade'] == 0)]\n",
    "\n",
    "# SEPARANDO OS EFEITOS SINGULARMENTE\n",
    "dfTreinoRuido      = dfTreinoCompleto.loc[(dfTreinoCompleto['ruido'] == 1) & (dfTreinoCompleto['pitch'] == 0) & (dfTreinoCompleto['tempo'] == 0) & (dfTreinoCompleto['velocidade'] == 0)]\n",
    "dfTreinoPitch      = dfTreinoCompleto.loc[(dfTreinoCompleto['ruido'] == 0) & (dfTreinoCompleto['pitch'] == 1) & (dfTreinoCompleto['tempo'] == 0) & (dfTreinoCompleto['velocidade'] == 0)]\n",
    "dfTreinoVelocidade = dfTreinoCompleto.loc[(dfTreinoCompleto['ruido'] == 0) & (dfTreinoCompleto['pitch'] == 0) & (dfTreinoCompleto['tempo'] == 0) & (dfTreinoCompleto['velocidade'] == 1)]\n",
    "dfTreinoTempo      = dfTreinoCompleto.loc[(dfTreinoCompleto['ruido'] == 0) & (dfTreinoCompleto['pitch'] == 0) & (dfTreinoCompleto['tempo'] == 1) & (dfTreinoCompleto['velocidade'] == 0)]\n",
    "\n",
    "# ADICIONANDO OS AUDIOS ORIGINAIS AOS DATASETS SINGULARES\n",
    "dfTreinoRuido      = pd.concat([dfTreinoRuido, dfTreinoOriginal], ignore_index=True)\n",
    "dfTreinoPitch      = pd.concat([dfTreinoPitch, dfTreinoOriginal], ignore_index=True)\n",
    "dfTreinoVelocidade = pd.concat([dfTreinoVelocidade, dfTreinoOriginal], ignore_index=True)\n",
    "dfTreinoTempo      = pd.concat([dfTreinoTempo, dfTreinoOriginal], ignore_index=True)"
   ]
  },
  {
   "cell_type": "code",
   "execution_count": 3,
   "metadata": {},
   "outputs": [],
   "source": [
    "dfTreinoOriginal.to_csv('../datasets/dataset_treinamento_original.csv', index=False)\n",
    "dfTreinoRuido.to_csv('../datasets/dataset_treinamento_original_ruido.csv', index=False)\n",
    "dfTreinoPitch.to_csv('../datasets/dataset_treinamento_original_pitch.csv', index=False)\n",
    "dfTreinoVelocidade.to_csv('../datasets/dataset_treinamento_original_velocidade.csv', index=False)\n",
    "dfTreinoTempo.to_csv('../datasets/dataset_treinamento_original_tempo.csv', index=False)"
   ]
  },
  {
   "cell_type": "code",
   "execution_count": null,
   "metadata": {},
   "outputs": [],
   "source": []
  }
 ],
 "metadata": {
  "kernelspec": {
   "display_name": "Python 3",
   "language": "python",
   "name": "python3"
  },
  "language_info": {
   "codemirror_mode": {
    "name": "ipython",
    "version": 3
   },
   "file_extension": ".py",
   "mimetype": "text/x-python",
   "name": "python",
   "nbconvert_exporter": "python",
   "pygments_lexer": "ipython3",
   "version": "3.7.3"
  }
 },
 "nbformat": 4,
 "nbformat_minor": 2
}

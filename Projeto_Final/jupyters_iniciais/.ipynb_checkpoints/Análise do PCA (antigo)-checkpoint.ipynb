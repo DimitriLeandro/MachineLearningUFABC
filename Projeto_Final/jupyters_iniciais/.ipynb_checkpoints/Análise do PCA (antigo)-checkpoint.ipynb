{
 "cells": [
  {
   "cell_type": "markdown",
   "metadata": {},
   "source": [
    "# PCA"
   ]
  },
  {
   "cell_type": "code",
   "execution_count": null,
   "metadata": {},
   "outputs": [],
   "source": [
    "import pandas as pd\n",
    "import numpy as np\n",
    "import matplotlib.pyplot as plt\n",
    "from joblib import Parallel, delayed\n",
    "from sklearn.model_selection import train_test_split as tts\n",
    "from sklearn.ensemble import RandomForestClassifier\n",
    "from sklearn.discriminant_analysis import LinearDiscriminantAnalysis\n",
    "from sklearn.neighbors import KNeighborsClassifier\n",
    "from sklearn.decomposition import PCA\n",
    "from sklearn.metrics import accuracy_score"
   ]
  },
  {
   "cell_type": "code",
   "execution_count": null,
   "metadata": {},
   "outputs": [],
   "source": [
    "#DEFININDO ALGUNS PARÂMETROS DO GRÁFICO\n",
    "%matplotlib inline\n",
    "%config InlineBackend.figure_format = 'svg'\n",
    "params = {'figure.figsize': [11, 5.5], \n",
    "          'axes.labelsize': 18,\n",
    "          'axes.titlesize':20, \n",
    "          'font.size': 18,\n",
    "          'legend.fontsize': 14, \n",
    "          'xtick.labelsize': 12, \n",
    "          'ytick.labelsize': 12,\n",
    "          'axes.axisbelow': True\n",
    "         }\n",
    "\n",
    "plt.rcParams.update(params)"
   ]
  },
  {
   "cell_type": "markdown",
   "metadata": {},
   "source": [
    "### Abrindo o dataset"
   ]
  },
  {
   "cell_type": "code",
   "execution_count": null,
   "metadata": {},
   "outputs": [],
   "source": [
    "# ABRINDO O DATASET COMPLETO\n",
    "dfTesteCompleto = pd.read_csv(\"../datasets/teste_100ms_135features.csv\")\n",
    "\n",
    "# SEPARANDO O DATASET QUE CONTEM APENAS OS AUDIOS ORIGINAIS\n",
    "dfTesteOriginal = dfTesteCompleto.loc[(dfTesteCompleto['ruido'] == 0) & (dfTesteCompleto['pitch'] == 0) & (dfTesteCompleto['tempo'] == 0) & (dfTesteCompleto['velocidade'] == 0)]\n",
    "print(dfTesteCompleto.shape)\n",
    "print(dfTesteOriginal.shape)"
   ]
  },
  {
   "cell_type": "markdown",
   "metadata": {},
   "source": [
    "### Separando data e target"
   ]
  },
  {
   "cell_type": "code",
   "execution_count": null,
   "metadata": {},
   "outputs": [],
   "source": [
    "data   = dfTesteOriginal.iloc[:, 5:-1].to_numpy()\n",
    "target = dfTesteOriginal.iloc[:, -1].to_numpy()\n",
    "print(data.shape)\n",
    "print(target.shape)"
   ]
  },
  {
   "cell_type": "markdown",
   "metadata": {},
   "source": [
    "### Parâmetros Iniciais"
   ]
  },
  {
   "cell_type": "code",
   "execution_count": null,
   "metadata": {},
   "outputs": [],
   "source": [
    "qtdHoldouts = 1"
   ]
  },
  {
   "cell_type": "markdown",
   "metadata": {},
   "source": [
    "### Função para ajudar a paralelizar"
   ]
  },
  {
   "cell_type": "code",
   "execution_count": null,
   "metadata": {},
   "outputs": [],
   "source": [
    "def treinarEClassificar(data, target, classificador):\n",
    "    \n",
    "    xTrain, xTest, yTrain, yTest = tts(data, target, test_size=0.25)\n",
    "    \n",
    "    if classificador == \"KNN\":\n",
    "        objClassificador = KNeighborsClassifier()\n",
    "    elif classificador == \"LDA\":\n",
    "        objClassificador = LinearDiscriminantAnalysis()\n",
    "    else:\n",
    "        objClassificador = RandomForestClassifier(n_estimators=10)\n",
    "    \n",
    "    objClassificador.fit(xTrain, yTrain)\n",
    "    yPred = objClassificador.predict(xTest)\n",
    "    \n",
    "    return accuracy_score(yTest, yPred)"
   ]
  },
  {
   "cell_type": "code",
   "execution_count": null,
   "metadata": {},
   "outputs": [],
   "source": [
    "treinarEClassificar(data, target, \"LDA\")"
   ]
  },
  {
   "cell_type": "markdown",
   "metadata": {},
   "source": [
    "### Função que roda tudo o que tem que rodar"
   ]
  },
  {
   "cell_type": "code",
   "execution_count": null,
   "metadata": {},
   "outputs": [],
   "source": [
    "def vamoQueVamo(classificador):   \n",
    "    \n",
    "    # RODANDO SEM O PCA PRA TER UM REFERENCIAL\n",
    "    arrayAcuraciasSemPCA = Parallel(n_jobs=-1, verbose=10)(delayed(treinarEClassificar)(data, target, classificador) for i in range(qtdHoldouts))\n",
    "    acuraciaMediaSemPCA = np.mean(arrayAcuraciasSemPCA)\n",
    "    desvioSemPCA        = np.std(arrayAcuraciasSemPCA)\n",
    "    \n",
    "    # APLICANDO O PCA\n",
    "    arrayAcuraciaMedia = []\n",
    "    arrayDesvioMedio   = []\n",
    "    arrayDimensoes     = []\n",
    "    # PARA CADA QUANTIDADE DE DIMENSOES\n",
    "    for qtdDimensoesAtual in range(len(data[1])-1, 0, -1):\n",
    "        # APLICANDO O PCA (COMO EU FUI ESQUECER DO PRINCIPAL MEU DEEEEEEEEEEEEEEEEUS)\n",
    "        dataComPCA = PCA(n_components=qtdDimensoesAtual).fit_transform(data)\n",
    "        # FAZENDO O BOOTSTRAP CV\n",
    "        acuraciasDimensaoAtual = Parallel(n_jobs=-1, verbose=10)(delayed(treinarEClassificar)(data, target, classificador) for i in range(qtdHoldouts))\n",
    "        # COLOCANDO A MEDIA E O DESVIO DA QUANTIDADE DE DIMENSOES ATUAL NOS ARRAYS DE RESULTADOS\n",
    "        arrayAcuraciaMedia.append(np.mean(acuraciasDimensaoAtual))\n",
    "        arrayDesvioMedio.append(np.std(acuraciasDimensaoAtual))\n",
    "        arrayDimensoes.append(qtdDimensoesAtual)\n",
    "        print(\"Teste com\", qtdDimensoesAtual, \"dimensões finalizado.\")\n",
    "    print(\"\\nTodas as etapas foram concluidas!\")\n",
    "    \n",
    "    # SALVANDO UMA IMAGEM\n",
    "    plt.plot(arrayDimensoes, np.full(len(arrayDimensoes), acuraciaMediaSemPCA), \"--\", color=\"black\", label=\"Referencial (sem PCA)\")\n",
    "    plt.errorbar(arrayDimensoes, arrayAcuraciaMedia, yerr=arrayDesvioMedio, label=\"PCA\")\n",
    "    plt.title(\"Análise do PCA com \" + classificador)\n",
    "    plt.xlabel(\"Qtd de Dimensões\")\n",
    "    plt.ylabel(\"Acurácia Média\")\n",
    "    plt.grid(alpha=0.5)\n",
    "    plt.legend()\n",
    "    plt.savefig(\"../resultados/analisePCA_\"+classificador+\".pdf\", format='pdf', bbox_inches = 'tight')\n",
    "    plt.show()"
   ]
  },
  {
   "cell_type": "markdown",
   "metadata": {},
   "source": [
    "# LDA"
   ]
  },
  {
   "cell_type": "code",
   "execution_count": null,
   "metadata": {},
   "outputs": [],
   "source": [
    "classificador = \"LDA\"\n",
    "vamoQueVamo(classificador)"
   ]
  },
  {
   "cell_type": "markdown",
   "metadata": {},
   "source": [
    "# RANDOM FOREST"
   ]
  },
  {
   "cell_type": "code",
   "execution_count": null,
   "metadata": {},
   "outputs": [],
   "source": [
    "classificador = \"RF\"\n",
    "vamoQueVamo(classificador)"
   ]
  },
  {
   "cell_type": "markdown",
   "metadata": {},
   "source": [
    "# KNN"
   ]
  },
  {
   "cell_type": "code",
   "execution_count": null,
   "metadata": {},
   "outputs": [],
   "source": [
    "classificador = \"KNN\"\n",
    "vamoQueVamo(classificador)"
   ]
  }
 ],
 "metadata": {
  "kernelspec": {
   "display_name": "Python 3",
   "language": "python",
   "name": "python3"
  },
  "language_info": {
   "codemirror_mode": {
    "name": "ipython",
    "version": 3
   },
   "file_extension": ".py",
   "mimetype": "text/x-python",
   "name": "python",
   "nbconvert_exporter": "python",
   "pygments_lexer": "ipython3",
   "version": "3.7.3"
  }
 },
 "nbformat": 4,
 "nbformat_minor": 2
}

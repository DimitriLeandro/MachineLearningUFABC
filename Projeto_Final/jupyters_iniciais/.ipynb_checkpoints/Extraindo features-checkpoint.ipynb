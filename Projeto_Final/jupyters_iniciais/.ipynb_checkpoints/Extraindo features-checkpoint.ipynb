{
 "cells": [
  {
   "cell_type": "markdown",
   "metadata": {},
   "source": [
    "# Extraindo features"
   ]
  },
  {
   "cell_type": "code",
   "execution_count": 1,
   "metadata": {},
   "outputs": [],
   "source": [
    "import sys\n",
    "sys.path.append(\"../python/\")\n",
    "from extrairFeatures import ExtrairFeatures"
   ]
  },
  {
   "cell_type": "code",
   "execution_count": 2,
   "metadata": {},
   "outputs": [
    {
     "name": "stdout",
     "output_type": "stream",
     "text": [
      "Frame Length: 8000\n",
      "Overlap: 4000\n"
     ]
    }
   ],
   "source": [
    "freqAmostragem = 16000\n",
    "frameLength    = int(0.050 * freqAmostragem) # 50 milisegundos\n",
    "overlapLength  = int(frameLength / 2) # 50% de overlap\n",
    "escalonamento  = True\n",
    "\n",
    "print(\"Frame Length:\", frameLength)\n",
    "print(\"Overlap:\", overlapLength)"
   ]
  },
  {
   "cell_type": "markdown",
   "metadata": {},
   "source": [
    "### Teste"
   ]
  },
  {
   "cell_type": "code",
   "execution_count": 3,
   "metadata": {},
   "outputs": [],
   "source": [
    "pastaRaiz = '/home/dimi/Downloads/Datasets/SESA/SESA_Projeto_Final_ML/test/'\n",
    "ExtrairFeatures(pastaRaiz, freqAmostragem, frameLength, overlapLength, escalonamento)"
   ]
  },
  {
   "cell_type": "markdown",
   "metadata": {},
   "source": [
    "### Treinamento"
   ]
  },
  {
   "cell_type": "code",
   "execution_count": 4,
   "metadata": {},
   "outputs": [],
   "source": [
    "pastaRaiz = '/home/dimi/Downloads/Datasets/SESA/SESA_Projeto_Final_ML/train/'\n",
    "ExtrairFeatures(pastaRaiz, freqAmostragem, frameLength, overlapLength, escalonamento)"
   ]
  },
  {
   "cell_type": "code",
   "execution_count": null,
   "metadata": {},
   "outputs": [],
   "source": []
  }
 ],
 "metadata": {
  "kernelspec": {
   "display_name": "Python 3",
   "language": "python",
   "name": "python3"
  },
  "language_info": {
   "codemirror_mode": {
    "name": "ipython",
    "version": 3
   },
   "file_extension": ".py",
   "mimetype": "text/x-python",
   "name": "python",
   "nbconvert_exporter": "python",
   "pygments_lexer": "ipython3",
   "version": "3.7.3"
  }
 },
 "nbformat": 4,
 "nbformat_minor": 2
}

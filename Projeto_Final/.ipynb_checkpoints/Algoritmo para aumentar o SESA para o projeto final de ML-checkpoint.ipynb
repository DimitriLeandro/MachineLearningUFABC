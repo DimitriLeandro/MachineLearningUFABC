{
 "cells": [
  {
   "cell_type": "markdown",
   "metadata": {},
   "source": [
    "# Algoritmo para aumentar o SESA para o projeto final de ML"
   ]
  },
  {
   "cell_type": "code",
   "execution_count": 1,
   "metadata": {},
   "outputs": [],
   "source": [
    "import librosa\n",
    "import efeitos\n",
    "import os\n",
    "import numpy as np\n",
    "import matplotlib.pyplot as plt\n",
    "from IPython.display import Audio\n",
    "from joblib import Parallel, delayed\n",
    "\n",
    "#DEFININDO ALGUNS PARÂMETROS PARA PLOTAR GRÁFICOS\n",
    "%matplotlib inline\n",
    "%config InlineBackend.figure_format = 'svg'\n",
    "params = {'figure.figsize': [10, 5], \n",
    "          'axes.labelsize': 13,\n",
    "          'axes.titlesize':17, \n",
    "          'font.size': 13,\n",
    "          'legend.fontsize': 13, \n",
    "          'xtick.labelsize': 11, \n",
    "          'ytick.labelsize': 11\n",
    "         }\n",
    "plt.rcParams.update(params)"
   ]
  },
  {
   "cell_type": "markdown",
   "metadata": {},
   "source": [
    "## Aumentando o dataset de treino"
   ]
  },
  {
   "cell_type": "markdown",
   "metadata": {},
   "source": [
    "Serão utilizados seis datasets de treinamento diferentes:\n",
    "\n",
    "1) Apenas com os áudios originais\n",
    "\n",
    "2) Com os originais e com os deslocados no tempo\n",
    "\n",
    "3) Com os originais e com os alterados no pitch\n",
    "\n",
    "4) Com os originais e com os alterados na velocidade\n",
    "\n",
    "5) Com os originais e com ruído branco\n",
    "\n",
    "6) Todos juntos"
   ]
  },
  {
   "cell_type": "code",
   "execution_count": null,
   "metadata": {},
   "outputs": [],
   "source": [
    "def aumentarDatasetTreino(nomeAudioTreino, diretorioOrigem, diretorioDestino):\n",
    "    \n",
    "    # ABRINDO O AUDIO\n",
    "    sinalOriginal, freqAmostragem = librosa.core.load(diretorioOrigem + nomeAudioTreino, sr=None, mono=True)\n",
    "    \n",
    "    # NORMALIZANDO PELA ENERGIA\n",
    "    sinalOriginal = efeitos.normalizarEnergia(sinalOriginal)\n",
    "    \n",
    "    # APLICANDO OS EFEITOS\n",
    "    sinalVelocidade, velocidade = efeitos.alterarVelocidadeAleatoriamente(sinalOriginal)\n",
    "    sinalRuido, snr             = efeitos.adicionarRuidoBrancoAleatoriamente(sinalOriginal)\n",
    "    sinalPitch, pitch           = efeitos.mudarPitchAleatoriamente(sinalOriginal, freqAmostragem)\n",
    "    sinalTempo, tempo           = efeitos.deslocarTempoAleatoriamente(sinalOriginal)\n",
    "    \n",
    "    # SALVANDO NO DESTINO (TEM QUE SALVAR O ORIGINAL TB)\n",
    "    librosa.output.write_wav(diretorioDestino + nomeAudioTreino[:-4] + \"_original.wav\", sinalOriginal, freqAmostragem)\n",
    "    librosa.output.write_wav(diretorioDestino + nomeAudioTreino[:-4] + \"_velocidade.wav\", sinalVelocidade, freqAmostragem)\n",
    "    librosa.output.write_wav(diretorioDestino + nomeAudioTreino[:-4] + \"_ruido.wav\", sinalRuido, freqAmostragem)\n",
    "    librosa.output.write_wav(diretorioDestino + nomeAudioTreino[:-4] + \"_pitch.wav\", sinalPitch, freqAmostragem)\n",
    "    librosa.output.write_wav(diretorioDestino + nomeAudioTreino[:-4] + \"_tempo.wav\", sinalTempo, freqAmostragem)\n",
    "    \n",
    "    # RETORNO OS PARAMETROS DE CADA EFEITO\n",
    "    return velocidade, snr, pitch, tempo"
   ]
  },
  {
   "cell_type": "code",
   "execution_count": null,
   "metadata": {},
   "outputs": [],
   "source": [
    "diretorioOrigem  = \"/home/dimi/Downloads/Datasets/SESA/SESA_Original/train/\"\n",
    "diretorioDestino = \"/home/dimi/Downloads/Datasets/SESA/SESA_Aumentado_Projeto_Final_ML/train/\"\n",
    "\n",
    "arquivosOrigem = np.array(os.listdir(diretorioOrigem))\n",
    "#arquivosOrigem = arquivosOrigem[:10]\n",
    "\n",
    "resposta = Parallel(n_jobs=-1, verbose=100)(delayed(aumentarDatasetTreino)(arquivoAtual, diretorioOrigem, diretorioDestino) for arquivoAtual in arquivosOrigem)\n",
    "arrayVelocidades, arraySNRs, arrayPitchs, arrayTempos = zip(*resposta)"
   ]
  },
  {
   "cell_type": "code",
   "execution_count": null,
   "metadata": {},
   "outputs": [],
   "source": [
    "bins = 50\n",
    "\n",
    "plt.hist(arrayPitchs, bins, histtype=\"stepfilled\")\n",
    "plt.title(\"Distribuição das alterações de pitch no dataest de treinamento\")\n",
    "plt.grid(alpha=0.3)\n",
    "plt.xlabel(\"Pitch Shift\")\n",
    "plt.savefig(\"distribuicao_treinamento_pitch.pdf\", format='pdf', bbox_inches = 'tight')\n",
    "plt.show()\n",
    "\n",
    "plt.hist(arraySNRs, bins, histtype=\"stepfilled\")\n",
    "plt.title(\"Distribuição das SNRs no dataest de treinamento\")\n",
    "plt.grid(alpha=0.3)\n",
    "plt.xlabel(\"SNR (dB)\")\n",
    "plt.savefig(\"distribuicao_treinamento_ruido.pdf\", format='pdf', bbox_inches = 'tight')\n",
    "plt.show()\n",
    "\n",
    "plt.hist(arrayVelocidades, bins, histtype=\"stepfilled\")\n",
    "plt.title(\"Distribuição das velocidades de reprodução no dataset de treinamento\")\n",
    "plt.grid(alpha=0.3)\n",
    "plt.xlabel(\"Velocidade de Reprodução\")\n",
    "plt.savefig(\"distribuicao_treinamento_velocidade.pdf\", format='pdf', bbox_inches = 'tight')\n",
    "plt.show()\n",
    "\n",
    "plt.hist(arrayTempos, bins, histtype=\"stepfilled\")\n",
    "plt.title(\"Distribuição dos percentuais de deslocamentos temporais no dataset de treinamento\")\n",
    "plt.grid(alpha=0.3)\n",
    "plt.xlabel(\"Percentual de Deslocamento Temporal\")\n",
    "plt.savefig(\"distribuicao_treinamento_tempo.pdf\", format='pdf', bbox_inches = 'tight')\n",
    "plt.show()"
   ]
  },
  {
   "cell_type": "markdown",
   "metadata": {},
   "source": [
    "### Aumentando o dataset de teste"
   ]
  },
  {
   "cell_type": "markdown",
   "metadata": {},
   "source": [
    "Cada áudio na origem vai gerar oito áudios no destino:\n",
    "\n",
    "1) Original\n",
    "\n",
    "2) Com deslocamento temporal\n",
    "\n",
    "3) Com mudança de pitch\n",
    "\n",
    "4) Com adição de ruído branco\n",
    "\n",
    "5) Com alteração na velocidade de reprodução\n",
    "\n",
    "6) Com dois efeitos misturados (selecionados aleatoriamente)\n",
    "\n",
    "7) Com três efeitos misturados (selecionados aleatoriamente)\n",
    "\n",
    "8) Com todos os efeitos"
   ]
  },
  {
   "cell_type": "code",
   "execution_count": 38,
   "metadata": {},
   "outputs": [],
   "source": [
    "def aumentarDatasetTeste(nomeAudioTeste, diretorioOrigem, diretorioDestino):\n",
    "    \n",
    "    print(nomeAudioTeste)\n",
    "    \n",
    "    # ABRINDO O AUDIO\n",
    "    sinalOriginal, freqAmostragem = librosa.core.load(diretorioOrigem + nomeAudioTeste, sr=None, mono=True)\n",
    "    \n",
    "    # NORMALIZANDO PELA ENERGIA\n",
    "    sinalOriginal = efeitos.normalizarEnergia(sinalOriginal)\n",
    "    \n",
    "    # APLICANDO OS EFEITOS SINGULARES\n",
    "    sinalVelocidade, __ = efeitos.alterarVelocidadeAleatoriamente(sinalOriginal)\n",
    "    sinalRuido, __      = efeitos.adicionarRuidoBrancoAleatoriamente(sinalOriginal)\n",
    "    sinalPitch, __      = efeitos.mudarPitchAleatoriamente(sinalOriginal, freqAmostragem)\n",
    "    sinalTempo, __      = efeitos.deslocarTempoAleatoriamente(sinalOriginal)\n",
    "    librosa.output.write_wav(diretorioDestino + nomeAudioTeste[:-4] + \"_original.wav\", sinalOriginal, freqAmostragem)\n",
    "    librosa.output.write_wav(diretorioDestino + nomeAudioTeste[:-4] + \"_velocidade.wav\", sinalVelocidade, freqAmostragem)\n",
    "    librosa.output.write_wav(diretorioDestino + nomeAudioTeste[:-4] + \"_ruido.wav\", sinalRuido, freqAmostragem)\n",
    "    librosa.output.write_wav(diretorioDestino + nomeAudioTeste[:-4] + \"_pitch.wav\", sinalPitch, freqAmostragem)\n",
    "    librosa.output.write_wav(diretorioDestino + nomeAudioTeste[:-4] + \"_tempo.wav\", sinalTempo, freqAmostragem)\n",
    "    \n",
    "    # APLICANDO DOIS EFEITOS\n",
    "    escolha = np.random.randint(0, 6)    \n",
    "    if escolha == 0: # efeitos == [1,2]\n",
    "        print(\"Entrou em 0\")\n",
    "        sinalDois, __ = efeitos.alterarVelocidadeAleatoriamente(sinalOriginal)\n",
    "        sinalDois, __ = efeitos.adicionarRuidoBrancoAleatoriamente(sinalDois)\n",
    "        librosa.output.write_wav(diretorioDestino + nomeAudioTeste[:-4] + \"_velocidade_ruido.wav\", sinalDois, freqAmostragem)\n",
    "    elif escolha == 1: # efeitos == [1,3]\n",
    "        print(\"Entrou em 1\")\n",
    "        sinalDois, __ = efeitos.alterarVelocidadeAleatoriamente(sinalOriginal)\n",
    "        sinalDois, __ = efeitos.mudarPitchAleatoriamente(sinalDois, freqAmostragem)\n",
    "        librosa.output.write_wav(diretorioDestino + nomeAudioTeste[:-4] + \"_velocidade_pitch.wav\", sinalDois, freqAmostragem)\n",
    "    elif escolha == 2: # efeitos == [1,4]\n",
    "        print(\"Entrou em 2\")\n",
    "        sinalDois, __ = efeitos.alterarVelocidadeAleatoriamente(sinalOriginal)\n",
    "        sinalDois, __ = efeitos.deslocarTempoAleatoriamente(sinalDois)\n",
    "        librosa.output.write_wav(diretorioDestino + nomeAudioTeste[:-4] + \"_velocidade_tempo.wav\", sinalDois, freqAmostragem)\n",
    "    elif escolha == 3: # efeitos == [2,3]\n",
    "        print(\"Entrou em 3\")\n",
    "        sinalDois, __ = efeitos.adicionarRuidoBrancoAleatoriamente(sinalOriginal)\n",
    "        sinalDois, __ = efeitos.mudarPitchAleatoriamente(sinalDois, freqAmostragem)\n",
    "        librosa.output.write_wav(diretorioDestino + nomeAudioTeste[:-4] + \"_ruido_pitch.wav\", sinalDois, freqAmostragem)\n",
    "    elif escolha == 4: # efeitos == [2,4]\n",
    "        print(\"Entrou em 4\")\n",
    "        sinalDois, __ = efeitos.adicionarRuidoBrancoAleatoriamente(sinalOriginal)\n",
    "        sinalDois, __ = efeitos.deslocarTempoAleatoriamente(sinalDois)\n",
    "        librosa.output.write_wav(diretorioDestino + nomeAudioTeste[:-4] + \"_ruido_tempo.wav\", sinalDois, freqAmostragem)\n",
    "    else: # efeitos == [3,4]\n",
    "        print(\"Entrou no else\")\n",
    "        sinalDois, __ = efeitos.mudarPitchAleatoriamente(sinalOriginal, freqAmostragem)\n",
    "        sinalDois, __ = efeitos.deslocarTempoAleatoriamente(sinalDois)\n",
    "        librosa.output.write_wav(diretorioDestino + nomeAudioTeste[:-4] + \"_pitch_tempo.wav\", sinalDois, freqAmostragem)\n",
    "    \n",
    "    # APLICANDO TRES EFEITOS\n",
    "    escolha = np.random.randint(0, 4)\n",
    "    if escolha == 0: # efeitos == [1,2,3]\n",
    "        sinalTres, __ = efeitos.alterarVelocidadeAleatoriamente(sinalOriginal)\n",
    "        sinalTres, __ = efeitos.adicionarRuidoBrancoAleatoriamente(sinalTres)\n",
    "        sinalTres, __ = efeitos.mudarPitchAleatoriamente(sinalTres, freqAmostragem)\n",
    "        librosa.output.write_wav(diretorioDestino + nomeAudioTeste[:-4] + \"_velocidade_ruido_pitch.wav\", sinalTres, freqAmostragem)\n",
    "    elif escolha == 1: # efeitos == [1,2,4]\n",
    "        sinalTres, __ = efeitos.alterarVelocidadeAleatoriamente(sinalOriginal)\n",
    "        sinalTres, __ = efeitos.adicionarRuidoBrancoAleatoriamente(sinalTres)\n",
    "        sinalTres, __ = efeitos.deslocarTempoAleatoriamente(sinalTres)\n",
    "        librosa.output.write_wav(diretorioDestino + nomeAudioTeste[:-4] + \"_velocidade_ruido_tempo.wav\", sinalTres, freqAmostragem)\n",
    "    elif escolha == 2: # efeitos == [1,3,4]\n",
    "        sinalTres, __ = efeitos.alterarVelocidadeAleatoriamente(sinalOriginal)\n",
    "        sinalTres, __ = efeitos.mudarPitchAleatoriamente(sinalTres, freqAmostragem)\n",
    "        sinalTres, __ = efeitos.deslocarTempoAleatoriamente(sinalTres)\n",
    "        librosa.output.write_wav(diretorioDestino + nomeAudioTeste[:-4] + \"_velocidade_pitch_tempo.wav\", sinalTres, freqAmostragem)\n",
    "    else: # efeitos == [2,3,4]\n",
    "        sinalTres, __ = efeitos.adicionarRuidoBrancoAleatoriamente(sinalOriginal)\n",
    "        sinalTres, __ = efeitos.mudarPitchAleatoriamente(sinalTres, freqAmostragem)\n",
    "        sinalTres, __ = efeitos.deslocarTempoAleatoriamente(sinalTres)\n",
    "        librosa.output.write_wav(diretorioDestino + nomeAudioTeste[:-4] + \"_ruido_pitch_tempo.wav\", sinalTres, freqAmostragem)\n",
    "    \n",
    "    # APLICANDO TODOS OS EFEITOS\n",
    "    sinalTodos, __ = efeitos.alterarVelocidadeAleatoriamente(sinalOriginal)\n",
    "    sinalTodos, __ = efeitos.adicionarRuidoBrancoAleatoriamente(sinalTodos)\n",
    "    sinalTodos, __ = efeitos.mudarPitchAleatoriamente(sinalTodos, freqAmostragem)\n",
    "    sinalTodos, __ = efeitos.deslocarTempoAleatoriamente(sinalTodos)\n",
    "    librosa.output.write_wav(diretorioDestino + nomeAudioTeste[:-4] + \"_velocidade_ruido_pitch_tempo.wav\", sinalTodos, freqAmostragem)  "
   ]
  },
  {
   "cell_type": "code",
   "execution_count": 37,
   "metadata": {},
   "outputs": [
    {
     "name": "stdout",
     "output_type": "stream",
     "text": [
      "[Parallel(n_jobs=-1)]: Using backend LokyBackend with 4 concurrent workers.\n",
      "[Parallel(n_jobs=-1)]: Done   1 tasks      | elapsed:    0.7s\n",
      "[Parallel(n_jobs=-1)]: Done   2 tasks      | elapsed:    0.9s\n",
      "[Parallel(n_jobs=-1)]: Done   3 tasks      | elapsed:    1.0s\n",
      "[Parallel(n_jobs=-1)]: Done   4 out of  10 | elapsed:    2.1s remaining:    3.1s\n",
      "[Parallel(n_jobs=-1)]: Done   5 out of  10 | elapsed:    2.3s remaining:    2.3s\n",
      "[Parallel(n_jobs=-1)]: Done   6 out of  10 | elapsed:    2.5s remaining:    1.7s\n",
      "[Parallel(n_jobs=-1)]: Done   7 out of  10 | elapsed:    2.9s remaining:    1.2s\n",
      "[Parallel(n_jobs=-1)]: Done   8 out of  10 | elapsed:    3.4s remaining:    0.9s\n",
      "[Parallel(n_jobs=-1)]: Done  10 out of  10 | elapsed:    5.8s remaining:    0.0s\n",
      "[Parallel(n_jobs=-1)]: Done  10 out of  10 | elapsed:    5.8s finished\n"
     ]
    },
    {
     "data": {
      "text/plain": [
       "[None, None, None, None, None, None, None, None, None, None]"
      ]
     },
     "execution_count": 37,
     "metadata": {},
     "output_type": "execute_result"
    }
   ],
   "source": [
    "diretorioOrigem  = \"/home/dimi/Downloads/Datasets/SESA/SESA_Original/test/\"\n",
    "diretorioDestino = \"/home/dimi/Downloads/Datasets/SESA/SESA_Aumentado_Projeto_Final_ML/test/\"\n",
    "\n",
    "arquivosOrigem = np.array(os.listdir(diretorioOrigem))\n",
    "arquivosOrigem = arquivosOrigem[:10]\n",
    "\n",
    "Parallel(n_jobs=-1, verbose=100)(delayed(aumentarDatasetTeste)(arquivoAtual, diretorioOrigem, diretorioDestino) for arquivoAtual in arquivosOrigem)"
   ]
  },
  {
   "cell_type": "code",
   "execution_count": null,
   "metadata": {},
   "outputs": [],
   "source": []
  },
  {
   "cell_type": "code",
   "execution_count": null,
   "metadata": {},
   "outputs": [],
   "source": []
  },
  {
   "cell_type": "code",
   "execution_count": null,
   "metadata": {},
   "outputs": [],
   "source": []
  },
  {
   "cell_type": "code",
   "execution_count": null,
   "metadata": {},
   "outputs": [],
   "source": []
  },
  {
   "cell_type": "code",
   "execution_count": null,
   "metadata": {},
   "outputs": [],
   "source": []
  },
  {
   "cell_type": "code",
   "execution_count": null,
   "metadata": {},
   "outputs": [],
   "source": []
  },
  {
   "cell_type": "code",
   "execution_count": null,
   "metadata": {},
   "outputs": [],
   "source": []
  }
 ],
 "metadata": {
  "kernelspec": {
   "display_name": "Python 3",
   "language": "python",
   "name": "python3"
  },
  "language_info": {
   "codemirror_mode": {
    "name": "ipython",
    "version": 3
   },
   "file_extension": ".py",
   "mimetype": "text/x-python",
   "name": "python",
   "nbconvert_exporter": "python",
   "pygments_lexer": "ipython3",
   "version": "3.7.3"
  }
 },
 "nbformat": 4,
 "nbformat_minor": 2
}

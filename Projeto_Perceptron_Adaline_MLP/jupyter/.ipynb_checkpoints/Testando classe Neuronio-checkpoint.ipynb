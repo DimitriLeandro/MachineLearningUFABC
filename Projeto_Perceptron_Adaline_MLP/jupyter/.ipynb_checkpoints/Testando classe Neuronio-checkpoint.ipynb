{
 "cells": [
  {
   "cell_type": "markdown",
   "metadata": {},
   "source": [
    "# Testando a classe do neurônio implementada"
   ]
  },
  {
   "cell_type": "markdown",
   "metadata": {},
   "source": [
    "Essa classe é de apenas um neurônio, só é possível utilizá-la em datasets binários por enquanto."
   ]
  },
  {
   "cell_type": "code",
   "execution_count": 1,
   "metadata": {},
   "outputs": [],
   "source": [
    "import numpy as np\n",
    "import pandas as pd\n",
    "import matplotlib.pyplot as plt\n",
    "import sys\n",
    "from random import randint\n",
    "from sklearn.metrics import accuracy_score\n",
    "from sklearn.model_selection import train_test_split as tts\n",
    "from sklearn.datasets import load_breast_cancer\n",
    "\n",
    "sys.path.append(\"/home/dimi/Programming/MachineLearningUFABC/Projeto_Perceptron_Adaline_MLP/python/\")\n",
    "from NeuronioClass import Neuronio"
   ]
  },
  {
   "cell_type": "markdown",
   "metadata": {},
   "source": [
    "## Importando um dataset"
   ]
  },
  {
   "cell_type": "code",
   "execution_count": 2,
   "metadata": {},
   "outputs": [],
   "source": [
    "data   = load_breast_cancer().data\n",
    "target = load_breast_cancer().target"
   ]
  },
  {
   "cell_type": "markdown",
   "metadata": {},
   "source": [
    "## Testando"
   ]
  },
  {
   "cell_type": "code",
   "execution_count": 4,
   "metadata": {
    "scrolled": false
   },
   "outputs": [
    {
     "name": "stdout",
     "output_type": "stream",
     "text": [
      "Acurácia na iteração 1: 0.916083916083916\n",
      "Acurácia na iteração 2: 0.9440559440559441\n",
      "Acurácia na iteração 3: 0.9090909090909091\n",
      "Acurácia na iteração 4: 0.9440559440559441\n",
      "Acurácia na iteração 5: 0.9440559440559441\n",
      "Acurácia Média: 0.9314685314685315 +- 0.01557416604987421\n"
     ]
    }
   ],
   "source": [
    "# INSTANCIANDO\n",
    "objNeuronio = Neuronio()\n",
    "\n",
    "# BOOTSTRAP\n",
    "acuracias = []\n",
    "for i in range(1,6):\n",
    "    \n",
    "    # SEPARANDO ENTRE TREINAMENTO E TESTE\n",
    "    xTrain, xTest, yTrain, yTest = tts(data, target, test_size=0.25, shuffle=True)\n",
    "    \n",
    "    # TREINANDO\n",
    "    objNeuronio.treinar(xTrain, yTrain, armazenarEvolucao=False)\n",
    "    \n",
    "    # PREDIZENDO\n",
    "    yPred = objNeuronio.predizer(xTest)\n",
    "    \n",
    "    # CALCULANDO ACURACIA\n",
    "    acuraciaAtual = accuracy_score(yTest, yPred)\n",
    "    acuracias.append(acuraciaAtual)\n",
    "    print(\"Acurácia na iteração \" + str(i) + \": \" + str(acuraciaAtual))\n",
    "    \n",
    "print(\"\\n\\n\\nAcurácia Média:\", np.mean(acuracias), \"+-\", np.std(acuracias))"
   ]
  }
 ],
 "metadata": {
  "kernelspec": {
   "display_name": "Python 3",
   "language": "python",
   "name": "python3"
  },
  "language_info": {
   "codemirror_mode": {
    "name": "ipython",
    "version": 3
   },
   "file_extension": ".py",
   "mimetype": "text/x-python",
   "name": "python",
   "nbconvert_exporter": "python",
   "pygments_lexer": "ipython3",
   "version": "3.7.3"
  }
 },
 "nbformat": 4,
 "nbformat_minor": 4
}

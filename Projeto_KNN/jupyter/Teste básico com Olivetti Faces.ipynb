{
 "cells": [
  {
   "cell_type": "code",
   "execution_count": 1,
   "metadata": {},
   "outputs": [],
   "source": [
    "import numpy as np\n",
    "from sklearn.datasets import fetch_olivetti_faces\n",
    "from sklearn.neighbors import KNeighborsClassifier\n",
    "from sklearn.model_selection import train_test_split as tts\n",
    "from sklearn.metrics import confusion_matrix\n",
    "from sklearn.metrics import accuracy_score\n",
    "from sklearn.metrics import precision_score\n",
    "from sklearn.metrics import recall_score"
   ]
  },
  {
   "cell_type": "code",
   "execution_count": 2,
   "metadata": {},
   "outputs": [],
   "source": [
    "import sys\n",
    "sys.path.append(\"/home/dimi/Programming/MachineLearningUFABC/Projeto_KNN/python/\")\n",
    "from MetricasClass import Metricas"
   ]
  },
  {
   "cell_type": "code",
   "execution_count": 3,
   "metadata": {},
   "outputs": [],
   "source": [
    "datasetOlivetti = fetch_olivetti_faces()\n",
    "x = datasetOlivetti.data\n",
    "y = datasetOlivetti.target"
   ]
  },
  {
   "cell_type": "code",
   "execution_count": 4,
   "metadata": {
    "scrolled": true
   },
   "outputs": [
    {
     "name": "stdout",
     "output_type": "stream",
     "text": [
      "K Atual: 1\n",
      "K Atual: 3\n",
      "K Atual: 5\n",
      "K Atual: 7\n",
      "K Atual: 9\n",
      "K Atual: 11\n",
      "K Atual: 13\n",
      "K Atual: 15\n",
      "K Atual: 17\n",
      "K Atual: 19\n",
      "CPU times: user 3.91 s, sys: 15.7 ms, total: 3.92 s\n",
      "Wall time: 3.91 s\n"
     ]
    }
   ],
   "source": [
    "%%time\n",
    "\n",
    "# ARRAYS COM OS RESULTADOS\n",
    "valoresK            = np.arange(1, 20, 2)\n",
    "acuraciasSK         = []\n",
    "mediaPrecisoesSK    = []\n",
    "mediaRevocacoesSK   = []\n",
    "acuraciasDimi       = []\n",
    "mediaPrecisoesDimi  = []\n",
    "mediaRevocacoesDimi = []\n",
    "\n",
    "# PARA CADA VALOR DE K\n",
    "for kAtual in valoresK:\n",
    "    \n",
    "    print(\"K Atual:\", kAtual)\n",
    "    \n",
    "    # SEPARANDO ENTRE DADOS DE TREINAMENTO E TESTE\n",
    "    xTrain, xTest, yTrain, yTest = tts(x, y, test_size=0.3, shuffle=True, random_state=100)\n",
    "        \n",
    "    # UTILIZANDO O SKLEARN\n",
    "    objKNNSKLearn = KNeighborsClassifier(n_neighbors=kAtual).fit(xTrain, yTrain)\n",
    "    yPredSKLearn  = objKNNSKLearn.predict(xTest)\n",
    "        \n",
    "    # RESULTADOS SKLEARN\n",
    "    acuraciasSK.append(accuracy_score(yTest, yPredSKLearn))\n",
    "    mediaPrecisoesSK.append(np.mean(precision_score(yTest, yPredSKLearn, average=None, zero_division=0)))\n",
    "    mediaRevocacoesSK.append(np.mean(recall_score(yTest, yPredSKLearn, average=None, zero_division=0)))\n",
    "    \n",
    "    # RESULTADOS DIMI\n",
    "    matrizConfusao = confusion_matrix(yTest, yPredSKLearn)\n",
    "    objMetricas = Metricas(matrizConfusao)\n",
    "    \n",
    "    acuraciasDimi.append(objMetricas.acuracia)\n",
    "    mediaPrecisoesDimi.append(objMetricas.mediaPrecisoes)\n",
    "    mediaRevocacoesDimi.append(objMetricas.mediaRevocacoes)"
   ]
  },
  {
   "cell_type": "code",
   "execution_count": 5,
   "metadata": {
    "scrolled": true
   },
   "outputs": [
    {
     "name": "stdout",
     "output_type": "stream",
     "text": [
      "[0.8916666666666667, 0.8, 0.7, 0.5833333333333334, 0.5416666666666666, 0.5, 0.48333333333333334, 0.4583333333333333, 0.44166666666666665, 0.425] \n",
      "\n",
      "[0.8916666666666667, 0.8, 0.7, 0.5833333333333334, 0.5416666666666666, 0.5, 0.48333333333333334, 0.4583333333333333, 0.44166666666666665, 0.425]\n"
     ]
    }
   ],
   "source": [
    "print(acuraciasSK, \"\\n\")\n",
    "print(acuraciasDimi)"
   ]
  },
  {
   "cell_type": "code",
   "execution_count": 6,
   "metadata": {},
   "outputs": [
    {
     "name": "stdout",
     "output_type": "stream",
     "text": [
      "[0.9283333333333331, 0.8401190476190475, 0.7880555555555555, 0.6388461538461538, 0.6258549783549784, 0.5677380952380953, 0.5907142857142856, 0.6023360177404294, 0.5326984126984127, 0.5208928571428572] \n",
      "\n",
      "[0.9283333333333331, 0.8401190476190475, 0.7880555555555555, 0.6388461538461538, 0.6258549783549784, 0.5677380952380953, 0.5907142857142856, 0.6023360177404294, 0.5326984126984127, 0.5208928571428572]\n"
     ]
    }
   ],
   "source": [
    "print(mediaPrecisoesSK, \"\\n\")\n",
    "print(mediaPrecisoesDimi)"
   ]
  },
  {
   "cell_type": "code",
   "execution_count": 7,
   "metadata": {},
   "outputs": [
    {
     "name": "stdout",
     "output_type": "stream",
     "text": [
      "[0.91875, 0.8579166666666665, 0.7433333333333334, 0.6479166666666667, 0.6337499999999999, 0.5870833333333334, 0.57375, 0.53875, 0.5466666666666666, 0.5383333333333333] \n",
      "\n",
      "[0.91875, 0.8579166666666665, 0.7433333333333334, 0.6479166666666667, 0.6337499999999999, 0.5870833333333334, 0.57375, 0.53875, 0.5466666666666666, 0.5383333333333333]\n"
     ]
    }
   ],
   "source": [
    "print(mediaRevocacoesSK, \"\\n\")\n",
    "print(mediaRevocacoesDimi)"
   ]
  },
  {
   "cell_type": "code",
   "execution_count": null,
   "metadata": {},
   "outputs": [],
   "source": []
  },
  {
   "cell_type": "code",
   "execution_count": null,
   "metadata": {},
   "outputs": [],
   "source": []
  }
 ],
 "metadata": {
  "kernelspec": {
   "display_name": "Python 3",
   "language": "python",
   "name": "python3"
  },
  "language_info": {
   "codemirror_mode": {
    "name": "ipython",
    "version": 3
   },
   "file_extension": ".py",
   "mimetype": "text/x-python",
   "name": "python",
   "nbconvert_exporter": "python",
   "pygments_lexer": "ipython3",
   "version": "3.7.3"
  }
 },
 "nbformat": 4,
 "nbformat_minor": 4
}

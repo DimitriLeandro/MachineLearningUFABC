{
 "cells": [
  {
   "cell_type": "code",
   "execution_count": 1,
   "metadata": {},
   "outputs": [],
   "source": [
    "import numpy as np"
   ]
  },
  {
   "cell_type": "code",
   "execution_count": 2,
   "metadata": {},
   "outputs": [],
   "source": [
    "import sys\n",
    "\n",
    "sys.path.append(\"/home/dimi/Programming/MachineLearningUFABC/Projeto_KNN/python/\")\n",
    "from MetricasClass import Metricas"
   ]
  },
  {
   "cell_type": "markdown",
   "metadata": {},
   "source": [
    "## Parte 1"
   ]
  },
  {
   "cell_type": "markdown",
   "metadata": {},
   "source": [
    "### Dataset 1"
   ]
  },
  {
   "cell_type": "code",
   "execution_count": 3,
   "metadata": {},
   "outputs": [],
   "source": [
    "arquivo = open(\"../resultados/dumps/dataset1.txt\", \"r\")\n",
    "\n",
    "arrayMatrizConfusaoDimi    = eval(arquivo.readline().replace(\"\\n\", \"\").replace(\"array\", \"np.array\"))\n",
    "arrayMatrizConfusaoSKLearn = eval(arquivo.readline().replace(\"\\n\", \"\").replace(\"array\", \"np.array\"))\n",
    "arrayTemposDimi            = eval(arquivo.readline().replace(\"\\n\", \"\").replace(\"array\", \"np.array\"))\n",
    "arrayTemposSKLearn         = eval(arquivo.readline().replace(\"\\n\", \"\").replace(\"array\", \"np.array\"))"
   ]
  },
  {
   "cell_type": "code",
   "execution_count": 4,
   "metadata": {},
   "outputs": [
    {
     "name": "stdout",
     "output_type": "stream",
     "text": [
      "Acc: 1.0\n",
      "Precisoes: [1.0, 1.0]\n",
      "Recalls: [1.0, 1.0]\n"
     ]
    }
   ],
   "source": [
    "objMetricas = Metricas(arrayMatrizConfusaoDimi[0][0])\n",
    "print(\"Acc:\", objMetricas.acuracia)\n",
    "print(\"Precisoes:\", objMetricas.precisoes)\n",
    "print(\"Recalls:\", objMetricas.revocacoes)"
   ]
  },
  {
   "cell_type": "code",
   "execution_count": 5,
   "metadata": {
    "scrolled": true
   },
   "outputs": [
    {
     "data": {
      "text/plain": [
       "array([[2, 0],\n",
       "       [0, 3]])"
      ]
     },
     "execution_count": 5,
     "metadata": {},
     "output_type": "execute_result"
    }
   ],
   "source": [
    "arrayMatrizConfusaoDimi[0][0]"
   ]
  },
  {
   "cell_type": "markdown",
   "metadata": {},
   "source": [
    "### Dataset 2"
   ]
  },
  {
   "cell_type": "code",
   "execution_count": 6,
   "metadata": {},
   "outputs": [],
   "source": [
    "arquivo = open(\"../resultados/dumps/dataset2.txt\", \"r\")\n",
    "\n",
    "arrayMatrizConfusaoDimi    = eval(arquivo.readline().replace(\"\\n\", \"\").replace(\"array\", \"np.array\"))\n",
    "arrayMatrizConfusaoSKLearn = eval(arquivo.readline().replace(\"\\n\", \"\").replace(\"array\", \"np.array\"))\n",
    "arrayTemposDimi            = eval(arquivo.readline().replace(\"\\n\", \"\").replace(\"array\", \"np.array\"))\n",
    "arrayTemposSKLearn         = eval(arquivo.readline().replace(\"\\n\", \"\").replace(\"array\", \"np.array\"))"
   ]
  },
  {
   "cell_type": "markdown",
   "metadata": {},
   "source": [
    "### Dataset 3"
   ]
  },
  {
   "cell_type": "code",
   "execution_count": 7,
   "metadata": {},
   "outputs": [],
   "source": [
    "arquivo = open(\"../resultados/dumps/dataset3.txt\", \"r\")\n",
    "\n",
    "arrayMatrizConfusaoDimi    = eval(arquivo.readline().replace(\"\\n\", \"\").replace(\"array\", \"np.array\"))\n",
    "arrayMatrizConfusaoSKLearn = eval(arquivo.readline().replace(\"\\n\", \"\").replace(\"array\", \"np.array\"))\n",
    "arrayTemposDimi            = eval(arquivo.readline().replace(\"\\n\", \"\").replace(\"array\", \"np.array\"))\n",
    "arrayTemposSKLearn         = eval(arquivo.readline().replace(\"\\n\", \"\").replace(\"array\", \"np.array\"))"
   ]
  },
  {
   "cell_type": "markdown",
   "metadata": {},
   "source": [
    "### Dataset 4"
   ]
  },
  {
   "cell_type": "code",
   "execution_count": 8,
   "metadata": {},
   "outputs": [],
   "source": [
    "arquivo = open(\"../resultados/dumps/dataset4.txt\", \"r\")\n",
    "\n",
    "arrayMatrizConfusaoDimi    = eval(arquivo.readline().replace(\"\\n\", \"\").replace(\"array\", \"np.array\"))\n",
    "arrayMatrizConfusaoSKLearn = eval(arquivo.readline().replace(\"\\n\", \"\").replace(\"array\", \"np.array\"))\n",
    "arrayTemposDimi            = eval(arquivo.readline().replace(\"\\n\", \"\").replace(\"array\", \"np.array\"))\n",
    "arrayTemposSKLearn         = eval(arquivo.readline().replace(\"\\n\", \"\").replace(\"array\", \"np.array\"))"
   ]
  },
  {
   "cell_type": "markdown",
   "metadata": {},
   "source": [
    "### Dataset 5"
   ]
  },
  {
   "cell_type": "code",
   "execution_count": 9,
   "metadata": {},
   "outputs": [],
   "source": [
    "arquivo = open(\"../resultados/dumps/dataset5.txt\", \"r\")\n",
    "\n",
    "arrayMatrizConfusaoDimi    = eval(arquivo.readline().replace(\"\\n\", \"\").replace(\"array\", \"np.array\"))\n",
    "arrayMatrizConfusaoSKLearn = eval(arquivo.readline().replace(\"\\n\", \"\").replace(\"array\", \"np.array\"))\n",
    "arrayTemposDimi            = eval(arquivo.readline().replace(\"\\n\", \"\").replace(\"array\", \"np.array\"))\n",
    "arrayTemposSKLearn         = eval(arquivo.readline().replace(\"\\n\", \"\").replace(\"array\", \"np.array\"))"
   ]
  },
  {
   "cell_type": "markdown",
   "metadata": {},
   "source": [
    "### Dataset 6"
   ]
  },
  {
   "cell_type": "code",
   "execution_count": 10,
   "metadata": {},
   "outputs": [],
   "source": [
    "arquivo = open(\"../resultados/dumps/dataset6.txt\", \"r\")\n",
    "\n",
    "arrayMatrizConfusaoDimi    = eval(arquivo.readline().replace(\"\\n\", \"\").replace(\"array\", \"np.array\"))\n",
    "arrayMatrizConfusaoSKLearn = eval(arquivo.readline().replace(\"\\n\", \"\").replace(\"array\", \"np.array\"))\n",
    "arrayTemposDimi            = eval(arquivo.readline().replace(\"\\n\", \"\").replace(\"array\", \"np.array\"))\n",
    "arrayTemposSKLearn         = eval(arquivo.readline().replace(\"\\n\", \"\").replace(\"array\", \"np.array\"))"
   ]
  },
  {
   "cell_type": "code",
   "execution_count": null,
   "metadata": {},
   "outputs": [],
   "source": []
  },
  {
   "cell_type": "code",
   "execution_count": null,
   "metadata": {},
   "outputs": [],
   "source": []
  },
  {
   "cell_type": "code",
   "execution_count": null,
   "metadata": {},
   "outputs": [],
   "source": []
  }
 ],
 "metadata": {
  "kernelspec": {
   "display_name": "Python 3",
   "language": "python",
   "name": "python3"
  },
  "language_info": {
   "codemirror_mode": {
    "name": "ipython",
    "version": 3
   },
   "file_extension": ".py",
   "mimetype": "text/x-python",
   "name": "python",
   "nbconvert_exporter": "python",
   "pygments_lexer": "ipython3",
   "version": "3.7.3"
  }
 },
 "nbformat": 4,
 "nbformat_minor": 4
}

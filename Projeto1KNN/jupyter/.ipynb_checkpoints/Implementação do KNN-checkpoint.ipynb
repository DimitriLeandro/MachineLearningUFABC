{
 "cells": [
  {
   "cell_type": "markdown",
   "metadata": {},
   "source": [
    "# IMPLEMENTAÇÃO DO K NEAREST NEIGHBOURS"
   ]
  },
  {
   "cell_type": "markdown",
   "metadata": {},
   "source": [
    "**Disciplina:** Tópicos em Inteligência Artificial: Machine Learning\n",
    "\n",
    "**Nome:** Dimitri Leandro de Oliveira Silva\n",
    "\n",
    "**RA:** 11201720576"
   ]
  },
  {
   "cell_type": "code",
   "execution_count": 1,
   "metadata": {},
   "outputs": [],
   "source": [
    "from sklearn.datasets import load_iris\n",
    "from sklearn.model_selection import train_test_split as tts\n",
    "from scipy.stats import mode\n",
    "from sklearn.metrics import accuracy_score\n",
    "import time\n",
    "import math\n",
    "import numpy as np"
   ]
  },
  {
   "cell_type": "markdown",
   "metadata": {},
   "source": [
    "### Importando o dataset"
   ]
  },
  {
   "cell_type": "code",
   "execution_count": 2,
   "metadata": {},
   "outputs": [],
   "source": [
    "dataset = load_iris()\n",
    "x = dataset.data\n",
    "y = dataset.target"
   ]
  },
  {
   "cell_type": "markdown",
   "metadata": {},
   "source": [
    "### Separando os dados de treinamento e teste"
   ]
  },
  {
   "cell_type": "code",
   "execution_count": 3,
   "metadata": {},
   "outputs": [],
   "source": [
    "xTrain, xTest, yTrain, yTest = tts(x, y, test_size=0.25, shuffle=True)"
   ]
  },
  {
   "cell_type": "markdown",
   "metadata": {},
   "source": [
    "## Implementando "
   ]
  },
  {
   "cell_type": "markdown",
   "metadata": {},
   "source": [
    "#### Função para calcular a distância entre dois pontos do dataset"
   ]
  },
  {
   "cell_type": "code",
   "execution_count": 4,
   "metadata": {},
   "outputs": [],
   "source": [
    "def calcularDistancia(pontoA, pontoB):\n",
    "    \n",
    "    distancia = 0\n",
    "    \n",
    "    # PASSO POR CADA DIMENSAO SUBTRAINDO AS COORDENADAS E ELEVANDO AO QUADRADO\n",
    "    for i in range(len(pontoA)):\n",
    "        \n",
    "        # SOMO NA DISTANCIA TOTAL\n",
    "        distancia += (pontoA[i] - pontoB[i]) ** 2\n",
    "        \n",
    "    # TIRO A RAIZ\n",
    "    return distancia ** (1/2)"
   ]
  },
  {
   "cell_type": "markdown",
   "metadata": {},
   "source": [
    "#### Função para gerar uma matriz de distâncias e indexes"
   ]
  },
  {
   "cell_type": "markdown",
   "metadata": {},
   "source": [
    "Dado um ponto que se queira classificar, essa função deverá retornar uma matriz onde cada linha representa um dado de treinamento. A primeira coluna mostrará o index desse elemento e a segunda, a distância em relação ao ponto em que se queira classificar."
   ]
  },
  {
   "cell_type": "code",
   "execution_count": 5,
   "metadata": {},
   "outputs": [],
   "source": [
    "def obterIndexesEDistancias(novoDado, xTrain):\n",
    "    \n",
    "    # INICIANDO A MATRIZ\n",
    "    matrizIndexesEDistancias = []\n",
    "    \n",
    "    # PARA CADA ELEMENTO\n",
    "    for i, dadoTreinoAtual in enumerate(xTrain):\n",
    "        matrizIndexesEDistancias.append([i, calcularDistancia(novoDado, dadoTreinoAtual)])\n",
    "        \n",
    "    return matrizIndexesEDistancias"
   ]
  },
  {
   "cell_type": "markdown",
   "metadata": {},
   "source": [
    "#### Função para ordenar a matriz de indexes e distâncias de acordo com as menores distâncias"
   ]
  },
  {
   "cell_type": "markdown",
   "metadata": {},
   "source": [
    "Essa função deverá receber a matriz de indexes e distâncias e ordenar as linhas de acordo com as menores distâncias."
   ]
  },
  {
   "cell_type": "code",
   "execution_count": 6,
   "metadata": {},
   "outputs": [],
   "source": [
    "def ordenarPelaDistancia(matrizIndexesEDistancias):\n",
    "    \n",
    "    linhaAuxiliar = []\n",
    "    \n",
    "    for i in range(0, len(matrizIndexesEDistancias)):\n",
    "        for j in  range(i+1, len(matrizIndexesEDistancias)):\n",
    "            \n",
    "            if matrizIndexesEDistancias[j][1] < matrizIndexesEDistancias[i][1]:\n",
    "                linhaAuxiliar = matrizIndexesEDistancias[i]\n",
    "                matrizIndexesEDistancias[i] = matrizIndexesEDistancias[j]\n",
    "                matrizIndexesEDistancias[j] = linhaAuxiliar\n",
    "                \n",
    "    return matrizIndexesEDistancias"
   ]
  },
  {
   "cell_type": "markdown",
   "metadata": {},
   "source": [
    "#### Função para retornar os k primeiros indexes da matriz de distâncias depois que ela já estiver ordenada"
   ]
  },
  {
   "cell_type": "code",
   "execution_count": 7,
   "metadata": {},
   "outputs": [],
   "source": [
    "def obterKPrimeirosIdexes(k , matrizIndexesEDistancias):\n",
    "    \n",
    "    indexesKMaisProximos = np.array(matrizIndexesEDistancias)[0:k, 0]\n",
    "    \n",
    "    return list(indexesKMaisProximos)"
   ]
  },
  {
   "cell_type": "markdown",
   "metadata": {},
   "source": [
    "#### Função para classificar um único dado"
   ]
  },
  {
   "cell_type": "markdown",
   "metadata": {},
   "source": [
    "Essa função deverá receber os indexes dos dados de treino mais próximos e o y de treinamento. Vou pegar o valor do y de cada k dado mais próximo de treinamento e usar a moda para definir a classe do novo dado.\n",
    "\n",
    "A função que calcula a moda já vai garantir que apenas um valor seja retornado, não preciso me preocupar com empates."
   ]
  },
  {
   "cell_type": "code",
   "execution_count": 8,
   "metadata": {},
   "outputs": [],
   "source": [
    "def classificarUnicoDado(indexesKMaisProximos, yTrain):\n",
    "    \n",
    "    kClassesMaisProximas = []\n",
    "    \n",
    "    for i in indexesKMaisProximos:\n",
    "        kClassesMaisProximas.append(yTrain[int(i)])\n",
    "    \n",
    "    moda = mode(kClassesMaisProximas)[0][0]\n",
    "    \n",
    "    return moda"
   ]
  },
  {
   "cell_type": "markdown",
   "metadata": {},
   "source": [
    "#### Função para classificar todos os dados de treinamento"
   ]
  },
  {
   "cell_type": "markdown",
   "metadata": {},
   "source": [
    "A função deverá receber todo o xTest e devolver um array com a classificação predita de cada um."
   ]
  },
  {
   "cell_type": "code",
   "execution_count": 9,
   "metadata": {},
   "outputs": [],
   "source": [
    "def predizerDadosTeste(xTest, xTrain, k):\n",
    "    \n",
    "    predicoes = []\n",
    "    \n",
    "    # PARA CADA DADO\n",
    "    for dadoTesteAtual in xTest:\n",
    "        \n",
    "        # EU CALCULO AS DISTANCIAS ATE CADA DADO DE TREINAMENTO\n",
    "        matrizIndexesEDistancias = obterIndexesEDistancias(dadoTesteAtual, xTrain)\n",
    "        \n",
    "        # ORDENO PELAS DISTANCIAS MAIS PROXIMAS\n",
    "        matrizIndexesEDistancias = ordenarPelaDistancia(matrizIndexesEDistancias)\n",
    "        \n",
    "        # OBTENHO OS INDICES DOS K PRIMEIROS MAIS PROXIMOS\n",
    "        indexesKMaisProximos = obterKPrimeirosIdexes(k, matrizIndexesEDistancias)\n",
    "        \n",
    "        # FACO A CLASSIFICACAO DO DADO ATUAL\n",
    "        classificacaoDadoAtual = classificarUnicoDado(indexesKMaisProximos, yTrain)\n",
    "        \n",
    "        # COLOCO A CLASSIFICACAO NO ARRAY DE PREDICOES\n",
    "        predicoes.append(classificacaoDadoAtual)\n",
    "        \n",
    "    return predicoes"
   ]
  },
  {
   "cell_type": "markdown",
   "metadata": {},
   "source": [
    "## Testando"
   ]
  },
  {
   "cell_type": "code",
   "execution_count": 10,
   "metadata": {},
   "outputs": [
    {
     "name": "stdout",
     "output_type": "stream",
     "text": [
      "Acurácia Dimi: 0.9473684210526315\n",
      "Acurácia SK: 0.9473684210526315\n",
      "\n",
      "Tempo Dimi: 0.08099532127380371\n",
      "Tempo SK: 0.003277301788330078\n"
     ]
    }
   ],
   "source": [
    "k = 5\n",
    "\n",
    "from sklearn.neighbors import KNeighborsClassifier\n",
    "\n",
    "inicioDimi = time.time()\n",
    "yPred      = predizerDadosTeste(xTest, xTrain, k)\n",
    "fimDimi    = time.time() \n",
    "\n",
    "acuraciaDimi = accuracy_score(yTest, yPred)\n",
    "print(\"Acurácia Dimi:\", acuraciaDimi)\n",
    "\n",
    "inicioSK = time.time()\n",
    "sklearn  = KNeighborsClassifier(k)\n",
    "sklearn.fit(xTrain, yTrain)\n",
    "yPred    = sklearn.predict(xTest)\n",
    "fimSK  = time.time() \n",
    "\n",
    "acuraciaSK = accuracy_score(yTest, yPred)\n",
    "print(\"Acurácia SK:\", acuraciaSK)\n",
    "\n",
    "print(\"\\nTempo Dimi:\", fimDimi - inicioDimi)\n",
    "print(\"Tempo SK:\", fimSK - inicioSK)"
   ]
  },
  {
   "cell_type": "code",
   "execution_count": null,
   "metadata": {},
   "outputs": [],
   "source": []
  }
 ],
 "metadata": {
  "kernelspec": {
   "display_name": "Python 3",
   "language": "python",
   "name": "python3"
  },
  "language_info": {
   "codemirror_mode": {
    "name": "ipython",
    "version": 3
   },
   "file_extension": ".py",
   "mimetype": "text/x-python",
   "name": "python",
   "nbconvert_exporter": "python",
   "pygments_lexer": "ipython3",
   "version": "3.7.3"
  }
 },
 "nbformat": 4,
 "nbformat_minor": 2
}
